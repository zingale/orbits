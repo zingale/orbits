{
 "cells": [
  {
   "cell_type": "markdown",
   "metadata": {},
   "source": [
    "This is a Jupyter notebook that contains python code to work through orbits of a planet around a star.  \n",
    "\n",
    "The code that builds and interprets the orbits is contained in _cells_.  You should work cell-by-cell and follow the instructions.  Some cells simply have text you should read while others have code that will execute.\n",
    "\n",
    "To navigate this notebook, you can use:\n",
    "\n",
    "  * `control-enter` : to execute the contents of a cell\n",
    "  * `shift-enter` : to execute the contents of a cell and advance to the next\n",
    "  * `alt-enter` : to execute the contents of a cell and add a new, empty one below it\n",
    "  \n",
    "  "
   ]
  },
  {
   "cell_type": "code",
   "execution_count": null,
   "metadata": {
    "collapsed": true
   },
   "outputs": [],
   "source": [
    "%matplotlib inline"
   ]
  },
  {
   "cell_type": "markdown",
   "metadata": {},
   "source": [
    "# Math Expressions"
   ]
  },
  {
   "cell_type": "markdown",
   "metadata": {},
   "source": [
    "We are using python embedded in our web browser to do our calculations.  We can use it just like a calculator to add, subtract, multiply, and divide numbers, e.g."
   ]
  },
  {
   "cell_type": "code",
   "execution_count": null,
   "metadata": {
    "collapsed": false
   },
   "outputs": [],
   "source": [
    "1.0 + 2"
   ]
  },
  {
   "cell_type": "code",
   "execution_count": null,
   "metadata": {
    "collapsed": false
   },
   "outputs": [],
   "source": [
    "5.23 - 15"
   ]
  },
  {
   "cell_type": "code",
   "execution_count": null,
   "metadata": {
    "collapsed": false
   },
   "outputs": [],
   "source": [
    "3/4"
   ]
  },
  {
   "cell_type": "code",
   "execution_count": null,
   "metadata": {
    "collapsed": false
   },
   "outputs": [],
   "source": [
    "4*4"
   ]
  },
  {
   "cell_type": "markdown",
   "metadata": {},
   "source": [
    "We can also use the `**` operator to raise a number to a power, e.g.,"
   ]
  },
  {
   "cell_type": "code",
   "execution_count": null,
   "metadata": {
    "collapsed": false
   },
   "outputs": [],
   "source": [
    "2**3"
   ]
  },
  {
   "cell_type": "markdown",
   "metadata": {},
   "source": [
    "More complex operations come through the math module.  We import that (this only needs to be done once), and then can access anything in math by prefixing it with `math.`\n",
    "\n",
    "We will use the square-root function, `math.sqrt()`, e.g.,"
   ]
  },
  {
   "cell_type": "code",
   "execution_count": null,
   "metadata": {
    "collapsed": true
   },
   "outputs": [],
   "source": [
    "import math"
   ]
  },
  {
   "cell_type": "code",
   "execution_count": null,
   "metadata": {
    "collapsed": false
   },
   "outputs": [],
   "source": [
    "math.sqrt(16)"
   ]
  },
  {
   "cell_type": "markdown",
   "metadata": {},
   "source": [
    "In python, it is useful to store information in named variables.  We can use any letters or numbers in variable named (but they need to start with a letter).  And we assign a value using the `=` operator:"
   ]
  },
  {
   "cell_type": "code",
   "execution_count": null,
   "metadata": {
    "collapsed": false
   },
   "outputs": [],
   "source": [
    "a = 1.2\n",
    "b = 2.0\n",
    "a*b"
   ]
  },
  {
   "cell_type": "markdown",
   "metadata": {},
   "source": [
    "# Orbits"
   ]
  },
  {
   "cell_type": "markdown",
   "metadata": {},
   "source": [
    "We want to consider planetary orbits.  To do this, we need to solve Newton's second law together with Newton's law of gravity.  If we restrict ourselves to the x-y plane, then there are 4 quantities we need to solve for: $x$, $y$, $v_x$, and $v_y$.  These evolve according to:\n",
    "\\begin{align*}\n",
    "\\frac{dx}{dt} &= v_x \\\\\n",
    "\\frac{dy}{dt} &= v_y \\\\\n",
    "\\frac{dv_x}{dt} &= a_x = -\\frac{GM_\\star x}{r^3} \\\\\n",
    "\\frac{dv_y}{dt} &= a_y = -\\frac{GM_\\star y}{r^3}\n",
    "\\end{align*}\n",
    "\n",
    "To integrate these forward in time, we need an initial condition for each quantity.  We'll setup our system such that the Sun is at the origin (that will be one focus), and the planet begins at perihelion and orbits counterclockwise. \n",
    "\n",
    "![geometry](orbit_setup.png)\n",
    "\n",
    "Recall that the distance of perihelion from the focus is:\n",
    "$$r_p = a (1 - e)$$\n",
    "where $a$ is the semi-major axis and $e$ is the eccentricity.  The perihelion velocity is all in the $y$ direction and is:\n",
    "$$v_y = v_p = \\sqrt{\\frac{GM_\\star}{a} \\frac{1+e}{1-e}}$$"
   ]
  },
  {
   "cell_type": "markdown",
   "metadata": {},
   "source": [
    "We will integrate this system _numerically_.  The basic idea is that we start with our initial conditions and then we advance the position of the planet through a very small amount of time, $\\Delta t$.  This gives an updated position.  A very simple way is to just use the initial position to evaluate the righthand side of our equations.  This gives an update:\n",
    "\\begin{align*}\n",
    "x_1 &= x_0 + \\Delta t \\, {v_x}_0 \\\\\n",
    "y_1 &= y_0 + \\Delta t \\, {v_y}_0 \\\\\n",
    "{v_x}_1 &= {v_x}_0 - \\Delta t \\frac{GM_\\star x_0}{r_0^3} \\\\\n",
    "{v_y}_1 &= {v_y}_0 - \\Delta t \\frac{GM_\\star y_0}{r_0^3}\n",
    "\\end{align*}\n",
    "\n",
    "You then keep repeating this until you've evolved for the amount of time you want.\n",
    "\n",
    "This method is called _Euler's Method_.  It is simple to implement, but it is not very accurate.  The formal reason for it not being accurate is that the error is proportional to $\\Delta t$, so you need to make $\\Delta t$ really small to get a good solution.\n",
    "\n",
    "We'll instead use a more complex integration method, called 4th order Runge-Kutta.  Runge-Kutta takes several Euler-like steps (at $\\Delta t/2$ and $\\Delta t$) and combines them together to get a more accurate solution.  The \"4th order\" means that the error is proportional to $(\\Delta t)^4$, so if you make $\\Delta t$ a little smaller, the error drops a lot.\n",
    "\n",
    "We have a module, `orbit_integrate` (shortened to `oi` here) that implements this for us.  Let's look at how to use it."
   ]
  },
  {
   "cell_type": "code",
   "execution_count": null,
   "metadata": {
    "collapsed": false
   },
   "outputs": [],
   "source": [
    "import orbit_integrate as oi"
   ]
  },
  {
   "cell_type": "markdown",
   "metadata": {},
   "source": [
    "We will use a library called `orbit_integrate` (abbreviated below as `oi`) to do the orbital integration for us.  Using this is pretty simple -- we first create an orbit _object_ (we'll call it `o` in all the examples below), and then we interact with that object.\n",
    "\n",
    "For example, to create an orbit with a semi-major axis, `a` of 1.5 AU, and an eccentricity, `e`, of 0.5, we do:\n",
    "```\n",
    "o = oi.Orbit(a=1.5, e=0.5)\n",
    "```\n",
    "\n",
    "Next we tell the orbit object that we want to integrate.  By default, it will integrate for one period, but you can specify the timescale to integrate using the `num_periods` argument, giving a fraction of a period.  For example, to integrate for 60% of an orbital period, we do:\n",
    "```\n",
    "o.integrate(num_periods=0.6)\n",
    "```\n",
    "\n",
    "After integrating, the `o` object contains all of the position and velocity information for the orbit at several different points in time (the time interval between points varies, since our integrator adjusts it as needed to get good accuracy).  For example, the following information is available:\n",
    "\n",
    "* `o.t` : the time (in s)\n",
    "* `o.x` : the x location (in m)\n",
    "* `o.y` : the y location (in m)\n",
    "* `o.vx` : the x-velocity (in m/s)\n",
    "* `o.vy` : the y-velocity (in m/s)\n",
    "\n",
    "The orbit object can also make a plot and print out this data in a nice format for you, using the `.plot()` and `.data()` methods.  To get a more detailed plot, you can add the argument `show_profiles=True` to the `plot()` command, inside the `()`.\n",
    "\n",
    "Here's an example:"
   ]
  },
  {
   "cell_type": "code",
   "execution_count": null,
   "metadata": {
    "collapsed": false
   },
   "outputs": [],
   "source": [
    "o = oi.Orbit(a=1.5, e=0.5)\n",
    "o.integrate(num_periods=0.6)"
   ]
  },
  {
   "cell_type": "code",
   "execution_count": null,
   "metadata": {
    "collapsed": false
   },
   "outputs": [],
   "source": [
    "o.plot()"
   ]
  },
  {
   "cell_type": "markdown",
   "metadata": {},
   "source": [
    "We can get a nice table of the orbital properties using the `.data()` method:"
   ]
  },
  {
   "cell_type": "code",
   "execution_count": null,
   "metadata": {
    "collapsed": false
   },
   "outputs": [],
   "source": [
    "o.data()"
   ]
  },
  {
   "cell_type": "markdown",
   "metadata": {
    "collapsed": true
   },
   "source": [
    "As noted above, we can look at the data for individual points.  The number of points is stored as `o.npts`, and python starts counting at `0`.  We index a particular point using `[n]`, where `n` is the index.  For example, to look at the information for `n=4` from the table above, we would do:"
   ]
  },
  {
   "cell_type": "code",
   "execution_count": null,
   "metadata": {
    "collapsed": false
   },
   "outputs": [],
   "source": [
    "x = o.x[4]\n",
    "y = o.y[4]\n",
    "print(x, y)"
   ]
  },
  {
   "cell_type": "markdown",
   "metadata": {},
   "source": [
    "The locations of the two foci of the ellipse are given as\n",
    "* (`o.focus1_x`, `o.focus1_y`)\n",
    "* (`o.focus2_x`, `o.focus2_y`)\n",
    "\n",
    "We can compute the distance of our point from a foci as:"
   ]
  },
  {
   "cell_type": "code",
   "execution_count": null,
   "metadata": {
    "collapsed": false
   },
   "outputs": [],
   "source": [
    "r1 = math.sqrt((o.x[4] - o.focus1_x)**2 + (o.y[4] - o.focus1_y)**2)\n",
    "print(r1)"
   ]
  },
  {
   "cell_type": "markdown",
   "metadata": {},
   "source": [
    "# Kepler's First Law"
   ]
  },
  {
   "cell_type": "markdown",
   "metadata": {},
   "source": [
    "Kepler's first law says that orbits are ellipses.  An ellipse has the property that for any point on the curve, the sum of the distances to each foci is constant."
   ]
  },
  {
   "cell_type": "markdown",
   "metadata": {},
   "source": [
    "### Question 1\n",
    "\n",
    "Test out Kepler's first law by creating an orbit with an eccentricity of your choice (between 0 and 1), and compute the sum of the distances to each foci for several points\n",
    "\n",
    "** Make a table of several values for r1, r2 and r1+r2.**  Express all distances in meters"
   ]
  },
  {
   "cell_type": "code",
   "execution_count": null,
   "metadata": {
    "collapsed": false
   },
   "outputs": [],
   "source": [
    "# do your calculations here.  If you want to add additional cells to work in,\n",
    "# you can use `control-m b` to insert a cell below this one\n"
   ]
  },
  {
   "cell_type": "markdown",
   "metadata": {},
   "source": [
    "# Kepler's Second Law"
   ]
  },
  {
   "cell_type": "markdown",
   "metadata": {},
   "source": [
    "Kepler's second law says that a planet sweeps out equal areas in equal times.  Mathematically, this means that\n",
    "\\begin{equation}\n",
    "\\frac{\\Delta A}{\\Delta t} = \\mathrm{constant}\n",
    "\\end{equation}\n",
    "\n",
    "We can test this (approximately) by computing the area of an orbital segment, $\\Delta A$ swept out in a single step and dividing by the corresponding change in time, $\\Delta t$.  To make life easier, we will imagine the area swept out from one step to the next to be a triangle, with one point as the focus (Sun), and the other two are successive points on the ellipse.\n",
    "\n",
    "Our primary foci is located at the origin, (0,0).  In this case, the area of a triangle with vertices (0,0), ($x_a$, $y_a$), and ($x_b$, $y_b$) is:\n",
    "\\begin{equation}\n",
    "\\Delta A = \\frac{1}{2} | x_a y_b - x_b y_a |\n",
    "\\end{equation}\n",
    "\n",
    "Note: this approximation means that our $\\Delta A/\\Delta t$ should only agree to 2-3 significant digits.\n",
    "\n",
    "This approximation is illustrated as the orange area in the figure below:\n",
    "\n",
    "![area](orbit_area.png)"
   ]
  },
  {
   "cell_type": "markdown",
   "metadata": {},
   "source": [
    "### Question 2\n",
    "\n",
    "Test out Kepler's second law by computing $\\Delta A/\\Delta t$ for several different segments in the orbit.  Always use two successive points (e.g., $n$, $n+1$) for a single interval.\n",
    "\n",
    "** Collect several values of $\\Delta A/\\Delta t$ and organize on a table. **\n",
    "\n",
    "For the numerator, you will construct $\\Delta A$ using the $x$ and $y$ coordinates for points in the orbit, accessed as `o.x[n]` and `o.y[n]`, where `n` is an integer in the table of points we displayed above.  For the time difference in the denominator, you will use `o.t[n]`."
   ]
  },
  {
   "cell_type": "code",
   "execution_count": null,
   "metadata": {
    "collapsed": true
   },
   "outputs": [],
   "source": [
    "# do you work here\n"
   ]
  },
  {
   "cell_type": "markdown",
   "metadata": {},
   "source": [
    "# Kepler's Third Law\n",
    "\n",
    "Kepler's third law is the harmonic relation that relates the period and semi-major axis of the planet and the mass of the star:\n",
    "\\begin{equation}\n",
    "\\frac{4\\pi^2 a^3}{G} = M_\\star T^2\n",
    "\\end{equation}"
   ]
  },
  {
   "cell_type": "markdown",
   "metadata": {
    "collapsed": true
   },
   "source": [
    "### Question 3\n",
    "\n",
    "In this exercise we want you to verify that the ratio $a^3/T^2$ is constant for all planets/satellites orbiting the same star. Choose different semi-major axis values and eccentricities, run\n",
    "```\n",
    "o = oi.Orbit(a=XX, e=YY)\n",
    "```\n",
    "where `XX` is your choice of semi-major axis in AU and `YY` is your choice of eccentricity.\n",
    "\n",
    "You will then print the value of the period using:\n",
    "```\n",
    "o.period()\n",
    "```\n",
    "This will be in seconds.\n",
    "\n",
    "**Build a table of values of $a$, $T$ and $a^3/T^2$.**\n",
    "\n",
    "From this information, what is the mass of the star that the planets are orbiting?\n",
    "\n"
   ]
  },
  {
   "cell_type": "code",
   "execution_count": null,
   "metadata": {
    "collapsed": false
   },
   "outputs": [],
   "source": [
    "o.period()"
   ]
  },
  {
   "cell_type": "code",
   "execution_count": null,
   "metadata": {
    "collapsed": true
   },
   "outputs": [],
   "source": []
  }
 ],
 "metadata": {
  "kernelspec": {
   "display_name": "Python 3",
   "language": "python",
   "name": "python3"
  },
  "language_info": {
   "codemirror_mode": {
    "name": "ipython",
    "version": 3
   },
   "file_extension": ".py",
   "mimetype": "text/x-python",
   "name": "python",
   "nbconvert_exporter": "python",
   "pygments_lexer": "ipython3",
   "version": "3.5.2"
  }
 },
 "nbformat": 4,
 "nbformat_minor": 1
}
