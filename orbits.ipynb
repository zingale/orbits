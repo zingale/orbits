{
 "cells": [
  {
   "cell_type": "code",
   "execution_count": 1,
   "metadata": {
    "collapsed": true
   },
   "outputs": [],
   "source": [
    "%matplotlib inline"
   ]
  },
  {
   "cell_type": "markdown",
   "metadata": {},
   "source": [
    "# Math Expressions"
   ]
  },
  {
   "cell_type": "markdown",
   "metadata": {},
   "source": [
    "We are using python embedded in our web browser to do our calculations.  We can use it just like a calculator to add, subtract, multiply, and divide numbers, e.g."
   ]
  },
  {
   "cell_type": "code",
   "execution_count": 2,
   "metadata": {
    "collapsed": false
   },
   "outputs": [
    {
     "data": {
      "text/plain": [
       "3.0"
      ]
     },
     "execution_count": 2,
     "metadata": {},
     "output_type": "execute_result"
    }
   ],
   "source": [
    "1.0 + 2"
   ]
  },
  {
   "cell_type": "code",
   "execution_count": 3,
   "metadata": {
    "collapsed": false
   },
   "outputs": [
    {
     "data": {
      "text/plain": [
       "-9.77"
      ]
     },
     "execution_count": 3,
     "metadata": {},
     "output_type": "execute_result"
    }
   ],
   "source": [
    "5.23 - 15"
   ]
  },
  {
   "cell_type": "code",
   "execution_count": 4,
   "metadata": {
    "collapsed": false
   },
   "outputs": [
    {
     "data": {
      "text/plain": [
       "0.75"
      ]
     },
     "execution_count": 4,
     "metadata": {},
     "output_type": "execute_result"
    }
   ],
   "source": [
    "3/4"
   ]
  },
  {
   "cell_type": "code",
   "execution_count": 5,
   "metadata": {
    "collapsed": false
   },
   "outputs": [
    {
     "data": {
      "text/plain": [
       "16"
      ]
     },
     "execution_count": 5,
     "metadata": {},
     "output_type": "execute_result"
    }
   ],
   "source": [
    "4*4"
   ]
  },
  {
   "cell_type": "markdown",
   "metadata": {},
   "source": [
    "We can also use the `**` operator to raise a number to a power, e.g.,"
   ]
  },
  {
   "cell_type": "code",
   "execution_count": 6,
   "metadata": {
    "collapsed": false
   },
   "outputs": [
    {
     "data": {
      "text/plain": [
       "8"
      ]
     },
     "execution_count": 6,
     "metadata": {},
     "output_type": "execute_result"
    }
   ],
   "source": [
    "2**3"
   ]
  },
  {
   "cell_type": "markdown",
   "metadata": {},
   "source": [
    "More complex operations come through the math module.  We import that (this only needs to be done once), and then can access anything in math by prefixing it with `math.`\n",
    "\n",
    "We will use the square-root function, `math.sqrt()`, e.g.,"
   ]
  },
  {
   "cell_type": "code",
   "execution_count": 7,
   "metadata": {
    "collapsed": true
   },
   "outputs": [],
   "source": [
    "import math"
   ]
  },
  {
   "cell_type": "code",
   "execution_count": 8,
   "metadata": {
    "collapsed": false
   },
   "outputs": [
    {
     "data": {
      "text/plain": [
       "4.0"
      ]
     },
     "execution_count": 8,
     "metadata": {},
     "output_type": "execute_result"
    }
   ],
   "source": [
    "math.sqrt(16)"
   ]
  },
  {
   "cell_type": "markdown",
   "metadata": {},
   "source": [
    "In python, it is useful to store information in named variables.  We can use any letters or numbers in variable named (but they need to start with a letter).  And we assign a value using the `=` operator:"
   ]
  },
  {
   "cell_type": "code",
   "execution_count": 9,
   "metadata": {
    "collapsed": false
   },
   "outputs": [
    {
     "data": {
      "text/plain": [
       "2.4"
      ]
     },
     "execution_count": 9,
     "metadata": {},
     "output_type": "execute_result"
    }
   ],
   "source": [
    "a = 1.2\n",
    "b = 2.0\n",
    "a*b"
   ]
  },
  {
   "cell_type": "markdown",
   "metadata": {},
   "source": [
    "# Orbits"
   ]
  },
  {
   "cell_type": "markdown",
   "metadata": {},
   "source": [
    "We want to consider planetary orbits.  To do this, we need to solve Newton's second law together with Newton's law of gravity.  If we restrict ourselves to the x-y plane, then there are 4 quantities we need to solve for: $x$, $y$, $v_x$, and $v_y$.  These evolve according to:\n",
    "\\begin{align*}\n",
    "\\frac{dx}{dt} &= v_x \\\\\n",
    "\\frac{dy}{dt} &= v_y \\\\\n",
    "\\frac{dv_x}{dt} &= a_x = -\\frac{GM_\\star x}{r^3} \\\\\n",
    "\\frac{dv_y}{dt} &= a_y = -\\frac{GM_\\star y}{r^3}\n",
    "\\end{align*}\n",
    "\n",
    "To integrate these forward in time, we need an initial condition for each quantity.  We'll setup our system such that the Sun is at the origin (that will be one focus), and the planet begins at perihelion and orbits counterclockwise. \n",
    "\n",
    "![geometry](orbit_setup.png)\n",
    "\n",
    "Recall that the distance of perihelion from the focus is:\n",
    "$$r_p = a (1 - e)$$\n",
    "where $a$ is the semi-major axis and $e$ is the eccentricity.  The perihelion velocity is all in the $y$ direction and is:\n",
    "$$v_y = v_p = \\sqrt{\\frac{GM_\\star}{a} \\frac{1+e}{1-e}}$$"
   ]
  },
  {
   "cell_type": "markdown",
   "metadata": {},
   "source": [
    "We will integrate this system _numerically_.  The basic idea is that we start with our initial conditions and then we advance the position of the planet through a very small amount of time, $\\Delta t$.  This gives an updated position.  A very simple way is to just use the initial position to evaluate the righthand side of our equations.  This gives an update:\n",
    "\\begin{align*}\n",
    "x_1 &= x_0 + \\Delta t \\, {v_x}_0 \\\\\n",
    "y_1 &= y_0 + \\Delta t \\, {v_y}_0 \\\\\n",
    "{v_x}_1 &= {v_x}_0 - \\Delta t \\frac{GM_\\star x_0}{r_0^3} \\\\\n",
    "{v_y}_1 &= {v_y}_0 - \\Delta t \\frac{GM_\\star y_0}{r_0^3}\n",
    "\\end{align*}\n",
    "\n",
    "You then keep repeating this until you've evolved for the amount of time you want.\n",
    "\n",
    "This method is called _Euler's Method_.  It is simple to implement, but it is not very accurate.  The formal reason for it not being accurate is that the error is proportional to $\\Delta t$, so you need to make $\\Delta t$ really small to get a good solution.\n",
    "\n",
    "We'll instead use a more complex integration method, called 4th order Runge-Kutta.  Runge-Kutta takes several Euler-like steps (at $\\Delta t/2$ and $\\Delta t$) and combines them together to get a more accurate solution.  The \"4th order\" means that the error is proportional to $(\\Delta t)^4$, so if you make $\\Delta t$ a little smaller, the error drops a lot.\n",
    "\n",
    "We have a module, `orbit_integrate` (shortened to `oi` here) that implements this for us.  Let's look at how to use it."
   ]
  },
  {
   "cell_type": "code",
   "execution_count": 10,
   "metadata": {
    "collapsed": false
   },
   "outputs": [],
   "source": [
    "import orbit_integrate as oi"
   ]
  },
  {
   "cell_type": "markdown",
   "metadata": {},
   "source": [
    "We will use a library called `orbit_integrate` (abbreviated below as `oi`) to do the orbital integration for us.  Using this is pretty simple -- we first create an orbit _object_ (we'll call it `o` in all the examples below), and then we interact with that object.\n",
    "\n",
    "For example, to create an orbit with a semi-major axis, `a` of 1.5 AU, and an eccentricity, `e`, of 0.5, we do:\n",
    "```\n",
    "o = oi.Orbit(a=1.5, e=0.5)\n",
    "```\n",
    "\n",
    "Next we tell the orbit object that we want to integrate.  By default, it will integrate for one period, but you can specify the timescale to integrate using the `num_periods` argument, giving a fraction of a period.  For example, to integrate for 60% of an orbital period, we do:\n",
    "```\n",
    "o.integrate(num_periods=0.6)\n",
    "```\n",
    "\n",
    "After integrating, the `o` object contains all of the position and velocity information for the orbit at several different points in time (the time interval between points varies, since our integrator adjusts it as needed to get good accuracy).  For example, the following information is available:\n",
    "\n",
    "* `o.t` : the time (in s)\n",
    "* `o.x` : the x location (in m)\n",
    "* `o.y` : the y location (in m)\n",
    "* `o.vx` : the x-velocity (in m/s)\n",
    "* `o.vy` : the y-velocity (in m/s)\n",
    "\n",
    "The orbit object can also make a plot and print out this data in a nice format for you, using the `.plot()` and `.data()` methods.\n",
    "\n",
    "Here's an example:"
   ]
  },
  {
   "cell_type": "code",
   "execution_count": 11,
   "metadata": {
    "collapsed": false
   },
   "outputs": [],
   "source": [
    "o = oi.Orbit(a=1.5, e=0.5)\n",
    "o.integrate(num_periods=0.6)"
   ]
  },
  {
   "cell_type": "code",
   "execution_count": 12,
   "metadata": {
    "collapsed": false
   },
   "outputs": [
    {
     "data": {
      "image/png": "[encoded data removed]",
      "text/plain": [
       "<matplotlib.figure.Figure at 0x7fa9ffcd6400>"
      ]
     },
     "metadata": {},
     "output_type": "display_data"
    }
   ],
   "source": [
    "o.plot()"
   ]
  },
  {
   "cell_type": "markdown",
   "metadata": {},
   "source": [
    "We can get a nice table of the orbital properties using the `.data()` method:"
   ]
  },
  {
   "cell_type": "code",
   "execution_count": 13,
   "metadata": {
    "collapsed": false
   },
   "outputs": [
    {
     "name": "stdout",
     "output_type": "stream",
     "text": [
      "n        time (s):         x (m),         y (m),      vx (m/s),      vy (m/s)\n",
      "  0             0:     1.125e+11,             0,             0,      42179.27\n",
      "  1      202207.4:  1.122846e+11,  8.523521e+09,     -2128.427,       42098.6\n",
      "  2      429731.2:    1.1153e+11,  1.807372e+10,     -4498.156,      41817.16\n",
      "  3      737300.8:  1.096643e+11,  3.083839e+10,     -7612.158,      41129.33\n",
      "  4       1083189:   1.06452e+11,  4.487519e+10,        -10923,      39971.05\n",
      "  5       1473955:  1.015038e+11,  6.017077e+10,     -14338.99,      38248.61\n",
      "  6       1900629:  9.467076e+10,  7.601946e+10,     -17606.04,      35985.41\n",
      "  7       2364431:  8.579332e+10,  9.207914e+10,     -20573.32,      33228.63\n",
      "  8       2865061:  7.483117e+10,  1.079306e+11,     -23108.62,      30081.57\n",
      "  9       3404549:   6.17866e+10,  1.232351e+11,     -25137.05,      26662.76\n",
      " 10       3985098:  4.672931e+10,  1.376709e+11,     -26627.43,      23097.84\n",
      " 11       4609180:  2.978153e+10,  1.509494e+11,     -27587.71,      19502.67\n",
      " 12       5278721:  1.112633e+10,  1.628071e+11,     -28054.08,      15976.99\n",
      " 13       5994985: -9.002057e+09,   1.73017e+11,     -28081.53,      12598.68\n",
      " 14       6758600: -3.033335e+10,   1.81398e+11,     -27734.43,       9422.01\n",
      " 15       7569967: -5.258608e+10,  1.878204e+11,     -27078.22,       6478.38\n",
      " 16       8428223: -7.545058e+10,  1.921959e+11,     -26174.83,      3784.275\n",
      " 17       9331462: -9.860675e+10,  1.944839e+11,     -25080.07,      1343.726\n",
      " 18  1.027534e+07: -1.217015e+11,  1.946927e+11,     -23844.28,     -845.1892\n",
      " 19  1.125093e+07: -1.443183e+11,  1.928975e+11,     -22515.48,     -2785.431\n",
      " 20  1.235019e+07:  -1.68233e+11,  1.887833e+11,     -20993.27,     -4648.256\n",
      " 21   1.35765e+07: -1.929346e+11,  1.819793e+11,     -19294.25,     -6396.021\n",
      " 22   1.49541e+07: -2.182113e+11,  1.720105e+11,     -17407.79,     -8023.629\n",
      " 23  1.648827e+07: -2.433326e+11,  1.585272e+11,     -15349.38,      -9500.88\n",
      " 24  1.817882e+07: -2.674046e+11,   1.41323e+11,     -13139.05,     -10801.31\n",
      " 25  2.000827e+07: -2.893042e+11,  1.205155e+11,     -10813.07,      -11897.6\n",
      " 26  2.194473e+07: -3.079128e+11,  9.658753e+10,     -8416.308,     -12770.69\n",
      " 27  2.394698e+07: -3.223317e+11,   7.03332e+10,     -5994.673,     -13413.34\n",
      " 28  2.597309e+07: -3.320322e+11,  4.269669e+10,     -3586.424,     -13830.11\n",
      " 29  2.798363e+07: -3.368631e+11,  1.465264e+10,     -1221.977,     -14033.19\n",
      " 30   2.99408e+07: -3.370104e+11, -1.284924e+10,      1071.329,     -14039.34\n",
      " 31  3.180411e+07: -3.329761e+11, -3.887808e+10,      3261.052,     -13870.02\n",
      " 32  3.376144e+07: -3.243259e+11, -6.569734e+10,      5582.656,     -13500.01\n",
      " 33  3.483174e+07: -3.176647e+11, -7.999631e+10,      6866.833,     -13208.42\n"
     ]
    }
   ],
   "source": [
    "o.data()"
   ]
  },
  {
   "cell_type": "markdown",
   "metadata": {
    "collapsed": true
   },
   "source": [
    "As noted above, we can look at the data for individual points.  The number of points is stored as `o.npts`, and python starts counting at `0`.  We index a particular point using `[n]`, where `n` is the index.  For example, to look at the information for `n=4` from the table above, we would do:"
   ]
  },
  {
   "cell_type": "code",
   "execution_count": 14,
   "metadata": {
    "collapsed": false
   },
   "outputs": [
    {
     "name": "stdout",
     "output_type": "stream",
     "text": [
      "106451950236.0 44875188157.5\n"
     ]
    }
   ],
   "source": [
    "x = o.x[4]\n",
    "y = o.y[4]\n",
    "print(x, y)"
   ]
  },
  {
   "cell_type": "markdown",
   "metadata": {},
   "source": [
    "The locations of the two foci of the ellipse are given as\n",
    "* (`o.focus1_x`, `o.focus1_y`)\n",
    "* (`o.focus2_x`, `o.focus2_y`)\n",
    "\n",
    "We can compute the distance of our point from a foci as:"
   ]
  },
  {
   "cell_type": "code",
   "execution_count": 15,
   "metadata": {
    "collapsed": false
   },
   "outputs": [
    {
     "name": "stdout",
     "output_type": "stream",
     "text": [
      "115524024433.31474\n"
     ]
    }
   ],
   "source": [
    "d1 = math.sqrt((o.x[4] - o.focus1_x)**2 + (o.y[4] - o.focus1_y)**2)\n",
    "print(d1)"
   ]
  },
  {
   "cell_type": "markdown",
   "metadata": {},
   "source": [
    "# Kepler's First Law"
   ]
  },
  {
   "cell_type": "markdown",
   "metadata": {},
   "source": [
    "Kepler's first law says that orbits are ellipses.  An ellipse has the property that for any point on the curve, the sum of the distances to each foci is constant."
   ]
  },
  {
   "cell_type": "markdown",
   "metadata": {},
   "source": [
    "### Question 1\n",
    "\n",
    "Test out Kepler's first law by creating an orbit with an eccentricity of your choice (between 0 and 1), and compute the sum of the distances to each foci for several points"
   ]
  },
  {
   "cell_type": "code",
   "execution_count": null,
   "metadata": {
    "collapsed": true
   },
   "outputs": [],
   "source": []
  },
  {
   "cell_type": "markdown",
   "metadata": {},
   "source": [
    "# Kepler's Second Law"
   ]
  },
  {
   "cell_type": "markdown",
   "metadata": {},
   "source": [
    "Kepler's second law says that a planet sweeps out equal areas in equal times.  Mathematically, this means that\n",
    "\\begin{equation}\n",
    "\\frac{\\Delta A}{\\Delta t} = \\mathrm{constant}\n",
    "\\end{equation}\n",
    "\n",
    "We can test this (approximately) by computing the area of an orbital segment, $\\Delta A$ swept out in a single step and dividing by the corresponding change in time, $\\Delta t$.  To make life easier, we will imagine the area swept out from one step to the next to be a triangle, with one point as the focus (Sun), and the other two are successive points on the ellipse.\n",
    "\n",
    "Our primary foci is located at the origin, (0,0).  In this case, the area of a triangle with vertices (0,0), ($x_a$, $y_a$), and ($x_b$, $y_b$) is:\n",
    "\\begin{equation}\n",
    "\\Delta A = \\frac{1}{2} | x_a y_b - x_b y_a |\n",
    "\\end{equation}\n",
    "\n",
    "Note: this approximation means that our $\\Delta A/\\Delta t$ should only agree to 2-3 significant digits"
   ]
  },
  {
   "cell_type": "markdown",
   "metadata": {},
   "source": [
    "### Question 2\n",
    "\n",
    "Test out Kepler's second law by computing $\\Delta A/\\Delta t$ for several different segments in the orbit.  Always use two successive points (e.g., $n$, $n+1$) for a single interval."
   ]
  },
  {
   "cell_type": "code",
   "execution_count": 16,
   "metadata": {
    "collapsed": false
   },
   "outputs": [
    {
     "name": "stdout",
     "output_type": "stream",
     "text": [
      "4.73832562101e+15\n"
     ]
    }
   ],
   "source": [
    "n = 2\n",
    "dAdt = abs(o.x[n]*o.y[n+1] - o.x[n+1]*o.y[n])/(o.t[n+1] - o.t[n])\n",
    "print(dAdt)"
   ]
  },
  {
   "cell_type": "code",
   "execution_count": 17,
   "metadata": {
    "collapsed": false
   },
   "outputs": [
    {
     "name": "stdout",
     "output_type": "stream",
     "text": [
      "4.73288797843e+15\n"
     ]
    }
   ],
   "source": [
    "n = 10\n",
    "dAdt = abs(o.x[n]*o.y[n+1] - o.x[n+1]*o.y[n])/(o.t[n+1] - o.t[n])\n",
    "print(dAdt)"
   ]
  },
  {
   "cell_type": "code",
   "execution_count": 18,
   "metadata": {
    "collapsed": false
   },
   "outputs": [
    {
     "name": "stdout",
     "output_type": "stream",
     "text": [
      "4.73555442532e+15\n"
     ]
    }
   ],
   "source": [
    "n = 30\n",
    "dAdt = abs(o.x[n]*o.y[n+1] - o.x[n+1]*o.y[n])/(o.t[n+1] - o.t[n])\n",
    "print(dAdt)"
   ]
  },
  {
   "cell_type": "code",
   "execution_count": 19,
   "metadata": {
    "collapsed": false
   },
   "outputs": [
    {
     "data": {
      "text/plain": [
       "1.8371173070873834"
      ]
     },
     "execution_count": 19,
     "metadata": {},
     "output_type": "execute_result"
    }
   ],
   "source": [
    "o.period()"
   ]
  },
  {
   "cell_type": "code",
   "execution_count": null,
   "metadata": {
    "collapsed": true
   },
   "outputs": [],
   "source": []
  }
 ],
 "metadata": {
  "kernelspec": {
   "display_name": "Python 3",
   "language": "python",
   "name": "python3"
  },
  "language_info": {
   "codemirror_mode": {
    "name": "ipython",
    "version": 3
   },
   "file_extension": ".py",
   "mimetype": "text/x-python",
   "name": "python",
   "nbconvert_exporter": "python",
   "pygments_lexer": "ipython3",
   "version": "3.5.2"
  }
 },
 "nbformat": 4,
 "nbformat_minor": 1
}
