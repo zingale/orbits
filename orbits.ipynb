{
 "cells": [
  {
   "cell_type": "code",
   "execution_count": 1,
   "metadata": {
    "collapsed": true
   },
   "outputs": [],
   "source": [
    "%matplotlib inline"
   ]
  },
  {
   "cell_type": "markdown",
   "metadata": {},
   "source": [
    "# Math Expressions"
   ]
  },
  {
   "cell_type": "markdown",
   "metadata": {},
   "source": [
    "We are using python embedded in our web browser to do our calculations.  We can use it just like a calculator to add, subtract, multiply, and divide numbers, e.g."
   ]
  },
  {
   "cell_type": "code",
   "execution_count": 2,
   "metadata": {
    "collapsed": false
   },
   "outputs": [
    {
     "data": {
      "text/plain": [
       "3.0"
      ]
     },
     "execution_count": 2,
     "metadata": {},
     "output_type": "execute_result"
    }
   ],
   "source": [
    "1.0 + 2"
   ]
  },
  {
   "cell_type": "code",
   "execution_count": 3,
   "metadata": {
    "collapsed": false
   },
   "outputs": [
    {
     "data": {
      "text/plain": [
       "-9.77"
      ]
     },
     "execution_count": 3,
     "metadata": {},
     "output_type": "execute_result"
    }
   ],
   "source": [
    "5.23 - 15"
   ]
  },
  {
   "cell_type": "code",
   "execution_count": 4,
   "metadata": {
    "collapsed": false
   },
   "outputs": [
    {
     "data": {
      "text/plain": [
       "0.75"
      ]
     },
     "execution_count": 4,
     "metadata": {},
     "output_type": "execute_result"
    }
   ],
   "source": [
    "3/4"
   ]
  },
  {
   "cell_type": "code",
   "execution_count": 5,
   "metadata": {
    "collapsed": false
   },
   "outputs": [
    {
     "data": {
      "text/plain": [
       "16"
      ]
     },
     "execution_count": 5,
     "metadata": {},
     "output_type": "execute_result"
    }
   ],
   "source": [
    "4*4"
   ]
  },
  {
   "cell_type": "markdown",
   "metadata": {},
   "source": [
    "We can also use the `**` operator to raise a number to a power, e.g.,"
   ]
  },
  {
   "cell_type": "code",
   "execution_count": 6,
   "metadata": {
    "collapsed": false
   },
   "outputs": [
    {
     "data": {
      "text/plain": [
       "8"
      ]
     },
     "execution_count": 6,
     "metadata": {},
     "output_type": "execute_result"
    }
   ],
   "source": [
    "2**3"
   ]
  },
  {
   "cell_type": "markdown",
   "metadata": {},
   "source": [
    "More complex operations come through the math module.  We import that (this only needs to be done once), and then can access anything in math by prefixing it with `math.`\n",
    "\n",
    "We will use the square-root function, `math.sqrt()`, e.g.,"
   ]
  },
  {
   "cell_type": "code",
   "execution_count": 7,
   "metadata": {
    "collapsed": true
   },
   "outputs": [],
   "source": [
    "import math"
   ]
  },
  {
   "cell_type": "code",
   "execution_count": 8,
   "metadata": {
    "collapsed": false
   },
   "outputs": [
    {
     "data": {
      "text/plain": [
       "4.0"
      ]
     },
     "execution_count": 8,
     "metadata": {},
     "output_type": "execute_result"
    }
   ],
   "source": [
    "math.sqrt(16)"
   ]
  },
  {
   "cell_type": "markdown",
   "metadata": {},
   "source": [
    "In python, it is useful to store information in named variables.  We can use any letters or numbers in variable named (but they need to start with a letter).  And we assign a value using the `=` operator:"
   ]
  },
  {
   "cell_type": "code",
   "execution_count": 9,
   "metadata": {
    "collapsed": false
   },
   "outputs": [
    {
     "data": {
      "text/plain": [
       "2.4"
      ]
     },
     "execution_count": 9,
     "metadata": {},
     "output_type": "execute_result"
    }
   ],
   "source": [
    "a = 1.2\n",
    "b = 2.0\n",
    "a*b"
   ]
  },
  {
   "cell_type": "markdown",
   "metadata": {},
   "source": [
    "# Orbits"
   ]
  },
  {
   "cell_type": "markdown",
   "metadata": {},
   "source": [
    "We want to consider planetary orbits.  To do this, we need to solve Newton's second law together with Newton's law of gravity.  If we restrict ourselves to the x-y plane, then there are 4 quantities we need to solve for: $x$, $y$, $v_x$, and $v_y$.  These evolve according to:\n",
    "\\begin{align*}\n",
    "\\frac{dx}{dt} &= v_x \\\\\n",
    "\\frac{dy}{dt} &= v_y \\\\\n",
    "\\frac{dv_x}{dt} &= a_x = -\\frac{GM_\\star x}{r^3} \\\\\n",
    "\\frac{dv_y}{dt} &= a_y = -\\frac{GM_\\star y}{r^3}\n",
    "\\end{align*}\n",
    "\n",
    "To integrate these forward in time, we need an initial condition for each quantity.  We'll setup our system such that the Sun is at the origin (that will be one focus), and the planet begins at perihelion and orbits counterclockwise. \n",
    "\n",
    "![geometry](orbit_setup.png)\n",
    "\n",
    "Recall that the distance of perihelion from the focus is:\n",
    "$$r_p = a (1 - e)$$\n",
    "where $a$ is the semi-major axis and $e$ is the eccentricity.  The perihelion velocity is all in the $y$ direction and is:\n",
    "$$v_y = v_p = \\sqrt{\\frac{GM_\\star}{a} \\frac{1+e}{1-e}}$$"
   ]
  },
  {
   "cell_type": "markdown",
   "metadata": {},
   "source": [
    "We will integrate this system _numerically_.  The basic idea is that we start with our initial conditions and then we advance the position of the planet through a very small amount of time, $\\Delta t$.  This gives an updated position.  A very simple way is to just use the initial position to evaluate the righthand side of our equations.  This gives an update:\n",
    "\\begin{align*}\n",
    "x_1 &= x_0 + \\Delta t \\, {v_x}_0 \\\\\n",
    "y_1 &= y_0 + \\Delta t \\, {v_y}_0 \\\\\n",
    "{v_x}_1 &= {v_x}_0 - \\Delta t \\frac{GM_\\star x_0}{r_0^3} \\\\\n",
    "{v_y}_1 &= {v_y}_0 - \\Delta t \\frac{GM_\\star y_0}{r_0^3}\n",
    "\\end{align*}\n",
    "\n",
    "You then keep repeating this until you've evolved for the amount of time you want.\n",
    "\n",
    "This method is called _Euler's Method_.  It is simple to implement, but it is not very accurate.  The formal reason for it not being accurate is that the error is proportional to $\\Delta t$, so you need to make $\\Delta t$ really small to get a good solution.\n",
    "\n",
    "We'll instead use a more complex integration method, called 4th order Runge-Kutta.  Runge-Kutta takes several Euler-like steps (at $\\Delta t/2$ and $\\Delta t$) and combines them together to get a more accurate solution.  The \"4th order\" means that the error is proportional to $(\\Delta t)^4$, so if you make $\\Delta t$ a little smaller, the error drops a lot.\n",
    "\n",
    "We have a module, `orbit_integrate` (shortened to `oi` here) that implements this for us.  Let's look at how to use it."
   ]
  },
  {
   "cell_type": "code",
   "execution_count": 10,
   "metadata": {
    "collapsed": false
   },
   "outputs": [],
   "source": [
    "import orbit_integrate as oi"
   ]
  },
  {
   "cell_type": "markdown",
   "metadata": {},
   "source": [
    "We will use a library called `orbit_integrate` (abbreviated below as `oi`) to do the orbital integration for us.  Using this is pretty simple -- we first create an orbit _object_ (we'll call it `o` in all the examples below), and then we interact with that object.\n",
    "\n",
    "For example, to create an orbit with a semi-major axis, `a` of 1.5 AU, and an eccentricity, `e`, of 0.5, we do:\n",
    "```\n",
    "o = oi.Orbit(a=1.5, e=0.5)\n",
    "```\n",
    "\n",
    "Next we tell the orbit object that we want to integrate.  By default, it will integrate for one period, but you can specify the timescale to integrate using the `num_periods` argument, giving a fraction of a period.  For example, to integrate for 60% of an orbital period, we do:\n",
    "```\n",
    "o.integrate(num_periods=0.6)\n",
    "```\n",
    "\n",
    "After integrating, the `o` object contains all of the position and velocity information for the orbit at several different points in time (the time interval between points varies, since our integrator adjusts it as needed to get good accuracy).  For example, the following information is available:\n",
    "\n",
    "* `o.t` : the time (in s)\n",
    "* `o.x` : the x location (in m)\n",
    "* `o.y` : the y location (in m)\n",
    "* `o.vx` : the x-velocity (in m/s)\n",
    "* `o.vy` : the y-velocity (in m/s)\n",
    "\n",
    "The orbit object can also make a plot and print out this data in a nice format for you, using the `.plot()` and `.data()` methods.\n",
    "\n",
    "Here's an example:"
   ]
  },
  {
   "cell_type": "code",
   "execution_count": 11,
   "metadata": {
    "collapsed": false
   },
   "outputs": [],
   "source": [
    "o = oi.Orbit(a=1.5, e=0.5)\n",
    "o.integrate(num_periods=0.6)"
   ]
  },
  {
   "cell_type": "code",
   "execution_count": 12,
   "metadata": {
    "collapsed": false
   },
   "outputs": [
    {
     "data": {
      "image/png": "[encoded data removed]",
      "text/plain": [
       "<matplotlib.figure.Figure at 0x7fb1b27ad208>"
      ]
     },
     "metadata": {},
     "output_type": "display_data"
    }
   ],
   "source": [
    "o.plot()"
   ]
  },
  {
   "cell_type": "markdown",
   "metadata": {},
   "source": [
    "We can get a nice table of the orbital properties using the `.data()` method:"
   ]
  },
  {
   "cell_type": "code",
   "execution_count": 13,
   "metadata": {
    "collapsed": false
   },
   "outputs": [
    {
     "name": "stdout",
     "output_type": "stream",
     "text": [
      "n        time (s):         x (m),         y (m),      vx (m/s),      vy (m/s)\n",
      "  0             0:     1.125e+11,             0,             0,      42187.14\n",
      "  1      95411.63:   1.12452e+11,  4.024571e+09,      -1005.92,      42169.14\n",
      "  2      234319.9:  1.122108e+11,  9.876816e+09,     -2466.013,      42078.82\n",
      "  3      437342.8:  1.114951e+11,  1.839537e+10,     -4578.356,      41811.99\n",
      "  4      687108.3:   1.10033e+11,  2.877587e+10,     -7115.883,      41272.05\n",
      "  5      982515.7:  1.075027e+11,   4.08394e+10,     -9987.929,      40353.89\n",
      "  6       1316769:   1.03651e+11,  5.410932e+10,     -13015.33,      38994.35\n",
      "  7       1688465:  9.823771e+10,  6.827126e+10,     -16050.27,      37157.63\n",
      "  8       2096159:  9.108949e+10,  8.295927e+10,     -18937.58,      34855.89\n",
      "  9       2539520:  8.209541e+10,  9.781728e+10,     -21542.98,      32142.82\n",
      " 10       3018725:  7.121629e+10,  1.124944e+11,     -23763.21,      29106.04\n",
      " 11       3535352:  5.845562e+10,  1.266862e+11,     -25537.28,      25845.81\n",
      " 12       4092011:  4.385074e+10,  1.401235e+11,     -26841.13,      22462.14\n",
      " 13       4691195:  2.749114e+10,  1.525471e+11,     -27678.89,      19050.51\n",
      " 14       5333789:  9.553028e+09,   1.63695e+11,     -28076.99,      15700.92\n",
      " 15       6018028: -9.680588e+09,  1.733201e+11,     -28080.99,      12493.95\n",
      " 16       6730124: -2.957816e+10,  1.811401e+11,     -27757.15,      9529.947\n",
      " 17       7492717: -5.052944e+10,  1.873192e+11,     -27154.17,      6737.532\n",
      " 18       8283405: -7.168878e+10,  1.916235e+11,     -26341.71,      4207.616\n",
      " 19       9098220: -9.276581e+10,  1.941048e+11,     -25375.72,       1934.92\n",
      " 20       9916031: -1.130928e+11,   1.94855e+11,     -24324.63,     -55.50045\n",
      " 21  1.069339e+07: -1.315982e+11,  1.941525e+11,     -23280.81,     -1717.545\n",
      " 22   1.15136e+07: -1.502324e+11,  1.920962e+11,      -22154.2,     -3263.715\n",
      " 23  1.247346e+07: -1.708588e+11,  1.881872e+11,     -20822.78,     -4843.019\n",
      " 24  1.355873e+07: -1.926404e+11,  1.820766e+11,     -19318.89,     -6377.354\n",
      " 25  1.479322e+07: -2.154418e+11,  1.732657e+11,     -17625.93,     -7854.022\n",
      " 26   1.61762e+07: -2.385254e+11,  1.614217e+11,     -15763.01,     -9229.884\n",
      " 27  1.770875e+07: -2.611308e+11,  1.462888e+11,     -13745.83,     -10474.41\n",
      " 28  1.937825e+07: -2.822841e+11,  1.278624e+11,     -11604.37,     -11556.77\n",
      " 29  2.115894e+07: -3.009577e+11,  1.064497e+11,     -9378.451,     -12452.65\n",
      " 30  2.300887e+07: -3.162101e+11,  8.273704e+10,     -7119.244,     -13146.41\n",
      " 31  2.487837e+07: -3.274196e+11,  5.767115e+10,     -4878.752,     -13635.99\n",
      " 32  2.671706e+07: -3.343874e+11,  3.229953e+10,     -2704.079,     -13932.08\n",
      " 33  2.847252e+07: -3.373238e+11,  7.712143e+09,     -642.8468,     -14055.03\n",
      " 34  2.988874e+07: -3.370589e+11, -1.219666e+10,      1017.038,     -14043.98\n",
      " 35  3.122282e+07: -3.346576e+11, -3.087515e+10,      2583.781,     -13943.44\n",
      " 36  3.276516e+07: -3.292697e+11, -5.222042e+10,      4405.372,     -13715.21\n",
      " 37  3.440597e+07: -3.204383e+11, -7.443136e+10,      6363.397,     -13333.04\n",
      " 38  3.482525e+07: -3.176646e+11, -7.999632e+10,       6868.12,     -13210.88\n"
     ]
    }
   ],
   "source": [
    "o.data()"
   ]
  },
  {
   "cell_type": "markdown",
   "metadata": {
    "collapsed": true
   },
   "source": [
    "As noted above, we can look at the data for individual points.  The number of points is stored as `o.npts`, and python starts counting at `0`.  We index a particular point using `[n]`, where `n` is the index.  For example, to look at the information for `n=4` from the table above, we would do:"
   ]
  },
  {
   "cell_type": "code",
   "execution_count": 14,
   "metadata": {
    "collapsed": false
   },
   "outputs": [
    {
     "name": "stdout",
     "output_type": "stream",
     "text": [
      "110032992441.0 28775865656.4\n"
     ]
    }
   ],
   "source": [
    "x = o.x[4]\n",
    "y = o.y[4]\n",
    "print(x, y)"
   ]
  },
  {
   "cell_type": "markdown",
   "metadata": {},
   "source": [
    "The locations of the two foci of the ellipse are given as\n",
    "* (`o.focus1_x`, `o.focus1_y`)\n",
    "* (`o.focus2_x`, `o.focus2_y`)\n",
    "\n",
    "We can compute the distance of our point from a foci as:"
   ]
  },
  {
   "cell_type": "code",
   "execution_count": 15,
   "metadata": {
    "collapsed": false
   },
   "outputs": [
    {
     "name": "stdout",
     "output_type": "stream",
     "text": [
      "113733503726.49243\n"
     ]
    }
   ],
   "source": [
    "d1 = math.sqrt((o.x[4] - o.focus1_x)**2 + (o.y[4] - o.focus1_y)**2)\n",
    "print(d1)"
   ]
  },
  {
   "cell_type": "markdown",
   "metadata": {},
   "source": [
    "# Kepler's First Law"
   ]
  },
  {
   "cell_type": "markdown",
   "metadata": {},
   "source": [
    "Kepler's first law says that orbits are ellipses.  An ellipse has the property that for any point on the curve, the sum of the distances to each foci is constant."
   ]
  },
  {
   "cell_type": "markdown",
   "metadata": {},
   "source": [
    "### Question 1\n",
    "\n",
    "Test out Kepler's first law by creating an orbit with an eccentricity of your choice (between 0 and 1), and compute the sum of the distances to each foci for several points"
   ]
  },
  {
   "cell_type": "code",
   "execution_count": 16,
   "metadata": {
    "collapsed": false
   },
   "outputs": [
    {
     "ename": "NameError",
     "evalue": "name 'foci' is not defined",
     "output_type": "error",
     "traceback": [
      "\u001b[0;31m---------------------------------------------------------------------------\u001b[0m",
      "\u001b[0;31mNameError\u001b[0m                                 Traceback (most recent call last)",
      "\u001b[0;32m<ipython-input-16-4840cd826d7c>\u001b[0m in \u001b[0;36m<module>\u001b[0;34m()\u001b[0m\n\u001b[0;32m----> 1\u001b[0;31m \u001b[0ma\u001b[0m \u001b[0;34m=\u001b[0m \u001b[0mo\u001b[0m\u001b[0;34m.\u001b[0m\u001b[0mdistance_to_foci\u001b[0m\u001b[0;34m(\u001b[0m\u001b[0;36m4\u001b[0m\u001b[0;34m,\u001b[0m \u001b[0mfocus\u001b[0m\u001b[0;34m=\u001b[0m\u001b[0;36m1\u001b[0m\u001b[0;34m)\u001b[0m \u001b[0;34m+\u001b[0m \u001b[0mo\u001b[0m\u001b[0;34m.\u001b[0m\u001b[0mdistance_to_foci\u001b[0m\u001b[0;34m(\u001b[0m\u001b[0;36m4\u001b[0m\u001b[0;34m,\u001b[0m \u001b[0mfocus\u001b[0m\u001b[0;34m=\u001b[0m\u001b[0;36m2\u001b[0m\u001b[0;34m)\u001b[0m\u001b[0;34m\u001b[0m\u001b[0m\n\u001b[0m\u001b[1;32m      2\u001b[0m \u001b[0mb\u001b[0m \u001b[0;34m=\u001b[0m \u001b[0mo\u001b[0m\u001b[0;34m.\u001b[0m\u001b[0mdistance_to_foci\u001b[0m\u001b[0;34m(\u001b[0m\u001b[0;36m20\u001b[0m\u001b[0;34m,\u001b[0m \u001b[0mfocus\u001b[0m\u001b[0;34m=\u001b[0m\u001b[0;36m1\u001b[0m\u001b[0;34m)\u001b[0m \u001b[0;34m+\u001b[0m \u001b[0mo\u001b[0m\u001b[0;34m.\u001b[0m\u001b[0mdistance_to_foci\u001b[0m\u001b[0;34m(\u001b[0m\u001b[0;36m20\u001b[0m\u001b[0;34m,\u001b[0m \u001b[0mfocus\u001b[0m\u001b[0;34m=\u001b[0m\u001b[0;36m2\u001b[0m\u001b[0;34m)\u001b[0m\u001b[0;34m\u001b[0m\u001b[0m\n\u001b[1;32m      3\u001b[0m \u001b[0mprint\u001b[0m\u001b[0;34m(\u001b[0m\u001b[0ma\u001b[0m\u001b[0;34m,\u001b[0m\u001b[0mb\u001b[0m\u001b[0;34m)\u001b[0m\u001b[0;34m\u001b[0m\u001b[0m\n",
      "\u001b[0;32m/home/zingale/development/orbits/orbit_integrate.py\u001b[0m in \u001b[0;36mdistance_to_foci\u001b[0;34m(self, idx, focus)\u001b[0m\n\u001b[1;32m     80\u001b[0m     \u001b[0;32mdef\u001b[0m \u001b[0mdistance_to_foci\u001b[0m\u001b[0;34m(\u001b[0m\u001b[0mself\u001b[0m\u001b[0;34m,\u001b[0m \u001b[0midx\u001b[0m\u001b[0;34m,\u001b[0m \u001b[0mfocus\u001b[0m\u001b[0;34m=\u001b[0m\u001b[0;36m1\u001b[0m\u001b[0;34m)\u001b[0m\u001b[0;34m:\u001b[0m\u001b[0;34m\u001b[0m\u001b[0m\n\u001b[1;32m     81\u001b[0m         \u001b[0;34m\"\"\" return the distance from a point in the orbit (idx) to a foci \"\"\"\u001b[0m\u001b[0;34m\u001b[0m\u001b[0m\n\u001b[0;32m---> 82\u001b[0;31m         \u001b[0;32mif\u001b[0m \u001b[0mfoci\u001b[0m \u001b[0;34m==\u001b[0m \u001b[0;36m1\u001b[0m\u001b[0;34m:\u001b[0m\u001b[0;34m\u001b[0m\u001b[0m\n\u001b[0m\u001b[1;32m     83\u001b[0m             \u001b[0mf\u001b[0m \u001b[0;34m=\u001b[0m \u001b[0;34m(\u001b[0m\u001b[0mself\u001b[0m\u001b[0;34m.\u001b[0m\u001b[0mfocus1_x\u001b[0m\u001b[0;34m,\u001b[0m \u001b[0mself\u001b[0m\u001b[0;34m.\u001b[0m\u001b[0mfocus1_y\u001b[0m\u001b[0;34m)\u001b[0m\u001b[0;34m\u001b[0m\u001b[0m\n\u001b[1;32m     84\u001b[0m         \u001b[0;32melse\u001b[0m\u001b[0;34m:\u001b[0m\u001b[0;34m\u001b[0m\u001b[0m\n",
      "\u001b[0;31mNameError\u001b[0m: name 'foci' is not defined"
     ]
    }
   ],
   "source": [
    "a = o.distance_to_foci(4, focus=1) + o.distance_to_foci(4, focus=2)\n",
    "b = o.distance_to_foci(20, focus=1) + o.distance_to_foci(20, focus=2)\n",
    "print(a,b)"
   ]
  },
  {
   "cell_type": "markdown",
   "metadata": {},
   "source": [
    "# Kepler's Second Law"
   ]
  },
  {
   "cell_type": "markdown",
   "metadata": {},
   "source": [
    "Kepler's second law says that a planet sweeps out equal areas in equal times.  Mathematically, this means that\n",
    "\\begin{equation}\n",
    "\\frac{\\Delta A}{\\Delta t} = \\mathrm{constant}\n",
    "\\end{equation}\n",
    "\n",
    "We can test this (approximately) by computing the area of an orbital segment, $\\Delta A$ swept out in a single step and dividing by the corresponding change in time, $\\Delta t$.  To make life easier, we will imagine the area swept out from one step to the next to be a triangle, with one point as the focus (Sun), and the other two are successive points on the ellipse.\n",
    "\n",
    "Our primary foci is located at the origin, (0,0).  In this case, the area of a triangle with vertices (0,0), ($x_a$, $y_a$), and ($x_b$, $y_b$) is:\n",
    "\\begin{equation}\n",
    "\\Delta A = \\frac{1}{2} | x_a y_b - x_b y_a |\n",
    "\\end{equation}\n",
    "\n",
    "Note: this approximation means that our $\\Delta A/\\Delta t$ should only agree to 2-3 significant digits"
   ]
  },
  {
   "cell_type": "markdown",
   "metadata": {},
   "source": [
    "### Question 2\n",
    "\n",
    "Test out Kepler's second law by computing $\\Delta A/\\Delta t$ for several different segments in the orbit.  Always use two successive points (e.g., $n$, $n+1$) for a single interval."
   ]
  },
  {
   "cell_type": "code",
   "execution_count": null,
   "metadata": {
    "collapsed": false
   },
   "outputs": [],
   "source": [
    "n = 2\n",
    "dAdt = abs(o.x[n]*o.y[n+1] - o.x[n+1]*o.y[n])/(o.t[n+1] - o.t[n])\n",
    "print(dAdt)"
   ]
  },
  {
   "cell_type": "code",
   "execution_count": null,
   "metadata": {
    "collapsed": false
   },
   "outputs": [],
   "source": [
    "n = 10\n",
    "dAdt = abs(o.x[n]*o.y[n+1] - o.x[n+1]*o.y[n])/(o.t[n+1] - o.t[n])\n",
    "print(dAdt)"
   ]
  },
  {
   "cell_type": "code",
   "execution_count": null,
   "metadata": {
    "collapsed": false
   },
   "outputs": [],
   "source": [
    "n = 30\n",
    "dAdt = abs(o.x[n]*o.y[n+1] - o.x[n+1]*o.y[n])/(o.t[n+1] - o.t[n])\n",
    "print(dAdt)"
   ]
  },
  {
   "cell_type": "code",
   "execution_count": null,
   "metadata": {
    "collapsed": false
   },
   "outputs": [],
   "source": [
    "o.period()"
   ]
  },
  {
   "cell_type": "code",
   "execution_count": null,
   "metadata": {
    "collapsed": true
   },
   "outputs": [],
   "source": []
  }
 ],
 "metadata": {
  "kernelspec": {
   "display_name": "Python 3",
   "language": "python",
   "name": "python3"
  },
  "language_info": {
   "codemirror_mode": {
    "name": "ipython",
    "version": 3
   },
   "file_extension": ".py",
   "mimetype": "text/x-python",
   "name": "python",
   "nbconvert_exporter": "python",
   "pygments_lexer": "ipython3",
   "version": "3.5.2"
  }
 },
 "nbformat": 4,
 "nbformat_minor": 1
}
